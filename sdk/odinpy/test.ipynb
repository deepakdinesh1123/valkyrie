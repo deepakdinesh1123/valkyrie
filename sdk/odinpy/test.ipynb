{
 "cells": [
  {
   "cell_type": "code",
   "execution_count": 5,
   "metadata": {},
   "outputs": [],
   "source": [
    "from odinpy import Client\n",
    "\n",
    "c = Client()"
   ]
  },
  {
   "cell_type": "code",
   "execution_count": 6,
   "metadata": {},
   "outputs": [
    {
     "name": "stdout",
     "output_type": "stream",
     "text": [
      "2025-02-20 07:45:04,459 - odinpy - DEBUG - Connected to websocket\n"
     ]
    },
    {
     "name": "stdout",
     "output_type": "stream",
     "text": [
      "2025-02-20 07:45:05,459 - odinpy - DEBUG - Received websocket message: {'data': {'sandboxId': 1, 'state': 'running', 'URL': 'http://172.17.0.3', 'agentURL': 'ws://172.17.0.3:1618/sandbox', 'created_at': '2025-02-20T07:45:04.455308+05:30'}, 'event': 'status'}\n",
      "2025-02-20 07:45:05,460 - odinpy - DEBUG - Event: status, Data: {'sandboxId': 1, 'state': 'running', 'URL': 'http://172.17.0.3', 'agentURL': 'ws://172.17.0.3:1618/sandbox', 'created_at': '2025-02-20T07:45:04.455308+05:30'}\n",
      "2025-02-20 07:45:05,460 - odinpy - DEBUG - Websocket URL is ws://172.17.0.3:1618/sandbox\n"
     ]
    }
   ],
   "source": [
    "s = c.new_sandbox()\n",
    "t = s.new_terminal()"
   ]
  },
  {
   "cell_type": "code",
   "execution_count": 7,
   "metadata": {},
   "outputs": [
    {
     "data": {
      "text/plain": [
       "TerminalWriteResponse(terminalId=UUID('5bd180db-72b1-4378-af7e-8350f03d9fb4'), msg='Write successful', success=True)"
      ]
     },
     "execution_count": 7,
     "metadata": {},
     "output_type": "execute_result"
    }
   ],
   "source": [
    "t.write_terminal(input=\"ls\\n\")"
   ]
  },
  {
   "cell_type": "code",
   "execution_count": 8,
   "metadata": {},
   "outputs": [
    {
     "data": {
      "text/plain": [
       "TerminalReadResponse(terminalId=UUID('5bd180db-72b1-4378-af7e-8350f03d9fb4'), output='valnix@d205bfa1eff5:~$ ls\\r\\nbin  flake.nix\\r\\nvalnix@d205bfa1eff5:~$ ', eof=False, success=True, msg='Read successful')"
      ]
     },
     "execution_count": 8,
     "metadata": {},
     "output_type": "execute_result"
    }
   ],
   "source": [
    "t.read_terminal()"
   ]
  },
  {
   "cell_type": "code",
   "execution_count": 9,
   "metadata": {},
   "outputs": [
    {
     "data": {
      "text/plain": [
       "TerminalCloseResponse(terminalId=UUID('5bd180db-72b1-4378-af7e-8350f03d9fb4'), msg='Terminal closed', success=True)"
      ]
     },
     "execution_count": 9,
     "metadata": {},
     "output_type": "execute_result"
    }
   ],
   "source": [
    "t.close_terminal()"
   ]
  },
  {
   "cell_type": "code",
   "execution_count": 10,
   "metadata": {},
   "outputs": [
    {
     "data": {
      "text/plain": [
       "TerminalReadResponse(terminalId=UUID('5bd180db-72b1-4378-af7e-8350f03d9fb4'), output='', eof=False, success=False, msg='Terminal not found')"
      ]
     },
     "execution_count": 10,
     "metadata": {},
     "output_type": "execute_result"
    }
   ],
   "source": [
    "t.read_terminal()"
   ]
  }
 ],
 "metadata": {
  "kernelspec": {
   "display_name": ".venv",
   "language": "python",
   "name": "python3"
  },
  "language_info": {
   "codemirror_mode": {
    "name": "ipython",
    "version": 3
   },
   "file_extension": ".py",
   "mimetype": "text/x-python",
   "name": "python",
   "nbconvert_exporter": "python",
   "pygments_lexer": "ipython3",
   "version": "3.12.7"
  }
 },
 "nbformat": 4,
 "nbformat_minor": 2
}
